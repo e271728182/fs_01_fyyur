{
 "cells": [
  {
   "cell_type": "code",
   "execution_count": 1,
   "metadata": {},
   "outputs": [
    {
     "name": "stderr",
     "output_type": "stream",
     "text": [
      "/Users/gabounet/anaconda3/lib/python3.7/site-packages/flask_sqlalchemy/__init__.py:835: FSADeprecationWarning: SQLALCHEMY_TRACK_MODIFICATIONS adds significant overhead and will be disabled by default in the future.  Set it to True or False to suppress this warning.\n",
      "  'SQLALCHEMY_TRACK_MODIFICATIONS adds significant overhead and '\n",
      "/Users/gabounet/anaconda3/lib/python3.7/site-packages/flask_sqlalchemy/__init__.py:835: FSADeprecationWarning: SQLALCHEMY_TRACK_MODIFICATIONS adds significant overhead and will be disabled by default in the future.  Set it to True or False to suppress this warning.\n",
      "  'SQLALCHEMY_TRACK_MODIFICATIONS adds significant overhead and '\n"
     ]
    }
   ],
   "source": [
    "import myapp as app\n",
    "from datetime import datetime"
   ]
  },
  {
   "cell_type": "code",
   "execution_count": 2,
   "metadata": {},
   "outputs": [],
   "source": [
    "from sqlalchemy.ext.declarative import declarative_base\n",
    "import sqlalchemy as db\n",
    "import json\n",
    "from sqlalchemy.orm import sessionmaker\n",
    "\n",
    "Base = declarative_base()\n",
    "engine = db.create_engine('postgresql://gabounet@localhost:5432/fyyur')\n",
    "conn=engine.connect()\n",
    "Session = sessionmaker(bind=engine)\n",
    "session = Session()"
   ]
  },
  {
   "cell_type": "code",
   "execution_count": null,
   "metadata": {},
   "outputs": [],
   "source": [
    "metadata = db.MetaData()\n",
    "#todos = db.Table('todos', metadata, autoload=True, autoload_with=engine)\n",
    "Artists=db.Table('Artist',metadata,autoload=True, autoload_with=engine)"
   ]
  },
  {
   "cell_type": "code",
   "execution_count": null,
   "metadata": {},
   "outputs": [],
   "source": [
    "engine.table_names()"
   ]
  },
  {
   "cell_type": "markdown",
   "metadata": {},
   "source": [
    "## Data from assignment "
   ]
  },
  {
   "cell_type": "code",
   "execution_count": 4,
   "metadata": {},
   "outputs": [],
   "source": [
    "venue1={\n",
    "    \"id\": 1,\n",
    "    \"name\": \"The Musical Hop\",\n",
    "    \"genres\": [\"Jazz\", \"Reggae\", \"Swing\", \"Classical\", \"Folk\"],\n",
    "    \"address\": \"1015 Folsom Street\",\n",
    "    \"city\": \"San Francisco\",\n",
    "    \"state\": \"CA\",\n",
    "    \"phone\": \"123-123-1234\",\n",
    "    \"website\": \"https://www.themusicalhop.com\",\n",
    "    \"facebook_link\": \"https://www.facebook.com/TheMusicalHop\",\n",
    "    \"seeking_talent\": True,\n",
    "    \"seeking_description\": \"We are on the lookout for a local artist to play every two weeks. Please call us.\",\n",
    "    \"image_link\": \"https://images.unsplash.com/photo-1543900694-133f37abaaa5?ixlib=rb-1.2.1&ixid=eyJhcHBfaWQiOjEyMDd9&auto=format&fit=crop&w=400&q=60\",\n",
    "    \"past_shows\": [{\n",
    "      \"artist_id\": 4,\n",
    "      \"artist_name\": \"Guns N Petals\",\n",
    "      \"artist_image_link\": \"https://images.unsplash.com/photo-1549213783-8284d0336c4f?ixlib=rb-1.2.1&ixid=eyJhcHBfaWQiOjEyMDd9&auto=format&fit=crop&w=300&q=80\",\n",
    "      \"start_time\": \"2019-05-21T21:30:00.000Z\"\n",
    "    }],\n",
    "    \"upcoming_shows\": [],\n",
    "    \"past_shows_count\": 1,\n",
    "    \"upcoming_shows_count\": 0,\n",
    "  }\n",
    "\n",
    "venue2={\n",
    "    \"id\": 2,\n",
    "    \"name\": \"The Dueling Pianos Bar\",\n",
    "    \"genres\": [\"Classical\", \"R&B\", \"Hip-Hop\"],\n",
    "    \"address\": \"335 Delancey Street\",\n",
    "    \"city\": \"New York\",\n",
    "    \"state\": \"NY\",\n",
    "    \"phone\": \"914-003-1132\",\n",
    "    \"website\": \"https://www.theduelingpianos.com\",\n",
    "    \"facebook_link\": \"https://www.facebook.com/theduelingpianos\",\n",
    "    \"seeking_talent\": False,\n",
    "    \"image_link\": \"https://images.unsplash.com/photo-1497032205916-ac775f0649ae?ixlib=rb-1.2.1&ixid=eyJhcHBfaWQiOjEyMDd9&auto=format&fit=crop&w=750&q=80\",\n",
    "    \"past_shows\": [],\n",
    "    \"upcoming_shows\": [],\n",
    "    \"past_shows_count\": 0,\n",
    "    \"upcoming_shows_count\": 0,\n",
    "  }\n",
    "venue3={\n",
    "    \"id\": 3,\n",
    "    \"name\": \"Park Square Live Music & Coffee\",\n",
    "    \"genres\": [\"Rock n Roll\", \"Jazz\", \"Classical\", \"Folk\"],\n",
    "    \"address\": \"34 Whiskey Moore Ave\",\n",
    "    \"city\": \"San Francisco\",\n",
    "    \"state\": \"CA\",\n",
    "    \"phone\": \"415-000-1234\",\n",
    "    \"website\": \"https://www.parksquarelivemusicandcoffee.com\",\n",
    "    \"facebook_link\": \"https://www.facebook.com/ParkSquareLiveMusicAndCoffee\",\n",
    "    \"seeking_talent\": False,\n",
    "    \"image_link\": \"https://images.unsplash.com/photo-1485686531765-ba63b07845a7?ixlib=rb-1.2.1&ixid=eyJhcHBfaWQiOjEyMDd9&auto=format&fit=crop&w=747&q=80\",\n",
    "    \"past_shows\": [{\n",
    "      \"artist_id\": 5,\n",
    "      \"artist_name\": \"Matt Quevedo\",\n",
    "      \"artist_image_link\": \"https://images.unsplash.com/photo-1495223153807-b916f75de8c5?ixlib=rb-1.2.1&ixid=eyJhcHBfaWQiOjEyMDd9&auto=format&fit=crop&w=334&q=80\",\n",
    "      \"start_time\": \"2019-06-15T23:00:00.000Z\"\n",
    "    }],\n",
    "    \"upcoming_shows\": [{\n",
    "      \"artist_id\": 6,\n",
    "      \"artist_name\": \"The Wild Sax Band\",\n",
    "      \"artist_image_link\": \"https://images.unsplash.com/photo-1558369981-f9ca78462e61?ixlib=rb-1.2.1&ixid=eyJhcHBfaWQiOjEyMDd9&auto=format&fit=crop&w=794&q=80\",\n",
    "      \"start_time\": \"2035-04-01T20:00:00.000Z\"\n",
    "    }, {\n",
    "      \"artist_id\": 6,\n",
    "      \"artist_name\": \"The Wild Sax Band\",\n",
    "      \"artist_image_link\": \"https://images.unsplash.com/photo-1558369981-f9ca78462e61?ixlib=rb-1.2.1&ixid=eyJhcHBfaWQiOjEyMDd9&auto=format&fit=crop&w=794&q=80\",\n",
    "      \"start_time\": \"2035-04-08T20:00:00.000Z\"\n",
    "    }, {\n",
    "      \"artist_id\": 6,\n",
    "      \"artist_name\": \"The Wild Sax Band\",\n",
    "      \"artist_image_link\": \"https://images.unsplash.com/photo-1558369981-f9ca78462e61?ixlib=rb-1.2.1&ixid=eyJhcHBfaWQiOjEyMDd9&auto=format&fit=crop&w=794&q=80\",\n",
    "      \"start_time\": \"2035-04-15T20:00:00.000Z\"\n",
    "    }],\n",
    "    \"past_shows_count\": 1,\n",
    "    \"upcoming_shows_count\": 1,\n",
    "  }\n",
    "\n",
    "\n",
    "    \n",
    "shows=[{\n",
    "    \"venue_id\": 1,\n",
    "    \"venue_name\": \"The Musical Hop\",\n",
    "    \"artist_id\": 4,\n",
    "    \"artist_name\": \"Guns N Petals\",\n",
    "    \"artist_image_link\": \"https://images.unsplash.com/photo-1549213783-8284d0336c4f?ixlib=rb-1.2.1&ixid=eyJhcHBfaWQiOjEyMDd9&auto=format&fit=crop&w=300&q=80\",\n",
    "    \"start_time\": \"2019-05-21T21:30:00.000Z\"\n",
    "  }, {\n",
    "    \"venue_id\": 3,\n",
    "    \"venue_name\": \"Park Square Live Music & Coffee\",\n",
    "    \"artist_id\": 5,\n",
    "    \"artist_name\": \"Matt Quevedo\",\n",
    "    \"artist_image_link\": \"https://images.unsplash.com/photo-1495223153807-b916f75de8c5?ixlib=rb-1.2.1&ixid=eyJhcHBfaWQiOjEyMDd9&auto=format&fit=crop&w=334&q=80\",\n",
    "    \"start_time\": \"2019-06-15T23:00:00.000Z\"\n",
    "  }, {\n",
    "    \"venue_id\": 3,\n",
    "    \"venue_name\": \"Park Square Live Music & Coffee\",\n",
    "    \"artist_id\": 6,\n",
    "    \"artist_name\": \"The Wild Sax Band\",\n",
    "    \"artist_image_link\": \"https://images.unsplash.com/photo-1558369981-f9ca78462e61?ixlib=rb-1.2.1&ixid=eyJhcHBfaWQiOjEyMDd9&auto=format&fit=crop&w=794&q=80\",\n",
    "    \"start_time\": \"2035-04-01T20:00:00.000Z\"\n",
    "  }, {\n",
    "    \"venue_id\": 3,\n",
    "    \"venue_name\": \"Park Square Live Music & Coffee\",\n",
    "    \"artist_id\": 6,\n",
    "    \"artist_name\": \"The Wild Sax Band\",\n",
    "    \"artist_image_link\": \"https://images.unsplash.com/photo-1558369981-f9ca78462e61?ixlib=rb-1.2.1&ixid=eyJhcHBfaWQiOjEyMDd9&auto=format&fit=crop&w=794&q=80\",\n",
    "    \"start_time\": \"2035-04-08T20:00:00.000Z\"\n",
    "  }, {\n",
    "    \"venue_id\": 3,\n",
    "    \"venue_name\": \"Park Square Live Music & Coffee\",\n",
    "    \"artist_id\": 6,\n",
    "    \"artist_name\": \"The Wild Sax Band\",\n",
    "    \"artist_image_link\": \"https://images.unsplash.com/photo-1558369981-f9ca78462e61?ixlib=rb-1.2.1&ixid=eyJhcHBfaWQiOjEyMDd9&auto=format&fit=crop&w=794&q=80\",\n",
    "    \"start_time\": \"2035-04-15T20:00:00.000Z\"\n",
    "  }]    \n",
    "\n",
    "artist1={\n",
    "    \"id\": 4,\n",
    "    \"name\": \"Guns N Petals\",\n",
    "    \"genres\": [\"Rock n Roll\"],\n",
    "    \"city\": \"San Francisco\",\n",
    "    \"state\": \"CA\",\n",
    "    \"phone\": \"326-123-5000\",\n",
    "    \"website\": \"https://www.gunsnpetalsband.com\",\n",
    "    \"facebook_link\": \"https://www.facebook.com/GunsNPetals\",\n",
    "    \"seeking_venue\": True,\n",
    "    \"seeking_description\": \"Looking for shows to perform at in the San Francisco Bay Area!\",\n",
    "    \"image_link\": \"https://images.unsplash.com/photo-1549213783-8284d0336c4f?ixlib=rb-1.2.1&ixid=eyJhcHBfaWQiOjEyMDd9&auto=format&fit=crop&w=300&q=80\",\n",
    "    \"past_shows\": [{\n",
    "      \"venue_id\": 1,\n",
    "      \"venue_name\": \"The Musical Hop\",\n",
    "      \"venue_image_link\": \"https://images.unsplash.com/photo-1543900694-133f37abaaa5?ixlib=rb-1.2.1&ixid=eyJhcHBfaWQiOjEyMDd9&auto=format&fit=crop&w=400&q=60\",\n",
    "      \"start_time\": \"2019-05-21T21:30:00.000Z\"\n",
    "    }],\n",
    "    \"upcoming_shows\": [],\n",
    "    \"past_shows_count\": 1,\n",
    "    \"upcoming_shows_count\": 0,\n",
    "  }\n",
    "artist2={\n",
    "    \"id\": 5,\n",
    "    \"name\": \"Matt Quevedo\",\n",
    "    \"genres\": [\"Jazz\"],\n",
    "    \"city\": \"New York\",\n",
    "    \"state\": \"NY\",\n",
    "    \"phone\": \"300-400-5000\",\n",
    "    \"facebook_link\": \"https://www.facebook.com/mattquevedo923251523\",\n",
    "    \"seeking_venue\": False,\n",
    "    \"image_link\": \"https://images.unsplash.com/photo-1495223153807-b916f75de8c5?ixlib=rb-1.2.1&ixid=eyJhcHBfaWQiOjEyMDd9&auto=format&fit=crop&w=334&q=80\",\n",
    "    \"past_shows\": [{\n",
    "      \"venue_id\": 3,\n",
    "      \"venue_name\": \"Park Square Live Music & Coffee\",\n",
    "      \"venue_image_link\": \"https://images.unsplash.com/photo-1485686531765-ba63b07845a7?ixlib=rb-1.2.1&ixid=eyJhcHBfaWQiOjEyMDd9&auto=format&fit=crop&w=747&q=80\",\n",
    "      \"start_time\": \"2019-06-15T23:00:00.000Z\"\n",
    "    }],\n",
    "    \"upcoming_shows\": [],\n",
    "    \"past_shows_count\": 1,\n",
    "    \"upcoming_shows_count\": 0,\n",
    "  }\n",
    "artist3={\n",
    "    \"id\": 6,\n",
    "    \"name\": \"The Wild Sax Band\",\n",
    "    \"genres\": [\"Jazz\", \"Classical\"],\n",
    "    \"city\": \"San Francisco\",\n",
    "    \"state\": \"CA\",\n",
    "    \"phone\": \"432-325-5432\",\n",
    "    \"seeking_venue\": False,\n",
    "    \"image_link\": \"https://images.unsplash.com/photo-1558369981-f9ca78462e61?ixlib=rb-1.2.1&ixid=eyJhcHBfaWQiOjEyMDd9&auto=format&fit=crop&w=794&q=80\",\n",
    "    \"past_shows\": [],\n",
    "    \"upcoming_shows\": [{\n",
    "      \"venue_id\": 3,\n",
    "      \"venue_name\": \"Park Square Live Music & Coffee\",\n",
    "      \"venue_image_link\": \"https://images.unsplash.com/photo-1485686531765-ba63b07845a7?ixlib=rb-1.2.1&ixid=eyJhcHBfaWQiOjEyMDd9&auto=format&fit=crop&w=747&q=80\",\n",
    "      \"start_time\": \"2035-04-01T20:00:00.000Z\"\n",
    "    }, {\n",
    "      \"venue_id\": 3,\n",
    "      \"venue_name\": \"Park Square Live Music & Coffee\",\n",
    "      \"venue_image_link\": \"https://images.unsplash.com/photo-1485686531765-ba63b07845a7?ixlib=rb-1.2.1&ixid=eyJhcHBfaWQiOjEyMDd9&auto=format&fit=crop&w=747&q=80\",\n",
    "      \"start_time\": \"2035-04-08T20:00:00.000Z\"\n",
    "    }, {\n",
    "      \"venue_id\": 3,\n",
    "      \"venue_name\": \"Park Square Live Music & Coffee\",\n",
    "      \"venue_image_link\": \"https://images.unsplash.com/photo-1485686531765-ba63b07845a7?ixlib=rb-1.2.1&ixid=eyJhcHBfaWQiOjEyMDd9&auto=format&fit=crop&w=747&q=80\",\n",
    "      \"start_time\": \"2035-04-15T20:00:00.000Z\"\n",
    "    }],\n",
    "    \"past_shows_count\": 0,\n",
    "    \"upcoming_shows_count\": 3,\n",
    "  }"
   ]
  },
  {
   "cell_type": "markdown",
   "metadata": {},
   "source": [
    "## loading Data to Postgresql "
   ]
  },
  {
   "cell_type": "code",
   "execution_count": 5,
   "metadata": {},
   "outputs": [],
   "source": [
    "#load artist data\n",
    "def helpfunc(key,data):\n",
    "    if key in data:\n",
    "        return data[key]\n",
    "    else:\n",
    "        pass\n",
    "    \n",
    "artistList=[artist1,artist2,artist3]        \n",
    "for bogusArt in artistList:\n",
    "\n",
    "\n",
    "    keys=['id','name','city','state','phone','genres','image_link','facebook_link','seeking_venue']\n",
    "\n",
    "    artist=app.Artist()\n",
    "    artist.id =  bogusArt['id']\n",
    "    artist.name =  bogusArt['name']\n",
    "    artist.city =  bogusArt['city']\n",
    "    artist.state =  bogusArt['state']\n",
    "    artist.phone =  bogusArt['phone']\n",
    "    artist.genres =  ','.join(bogusArt['genres'])\n",
    "    artist.image_link =  bogusArt['image_link']\n",
    "    if 'seeking_description' in bogusArt:\n",
    "        artist.seeking_description=bogusArt['seeking_description']\n",
    "    if 'facebook_link' in bogusArt:\n",
    "        artist.facebook_link =  bogusArt['facebook_link']\n",
    "    artist.seeking_venue=bogusArt['seeking_venue']\n",
    "    \n",
    "    session.add(artist)"
   ]
  },
  {
   "cell_type": "code",
   "execution_count": 6,
   "metadata": {},
   "outputs": [],
   "source": [
    "# load venus data\n",
    "\n",
    "venueList=[venue1,venue2,venue3]\n",
    "keys=['id','name','city','state','phone','genres','image_link','facebook_link','seeking_venue']\n",
    "for bogusVen in venueList:\n",
    "\n",
    "    venue=app.Venue()\n",
    "    venue.id =  bogusVen['id']\n",
    "    venue.name =  bogusVen['name']\n",
    "    venue.address=  bogusVen['address']\n",
    "    venue.city=bogusVen['city']\n",
    "    venue.state =  bogusVen['state']\n",
    "    venue.phone =  bogusVen['phone']\n",
    "    venue.website=bogusVen['website']\n",
    "    venue.genres =  ','.join(bogusVen['genres'])\n",
    "    venue.image_link =  bogusVen['image_link']\n",
    "    venue.facebook_link =  bogusVen['facebook_link']\n",
    "    venue.seeking_talent=bogusVen['seeking_talent']\n",
    "    session.add(venue)"
   ]
  },
  {
   "cell_type": "code",
   "execution_count": 7,
   "metadata": {},
   "outputs": [],
   "source": [
    "#load shows data\n",
    "for myShow in shows:\n",
    "    show=app.Show()\n",
    "    show.artist_id=myShow['artist_id']\n",
    "    show.venue_id=myShow['venue_id']\n",
    "    show.start_time=myShow['start_time']\n",
    "    session.add(show)"
   ]
  },
  {
   "cell_type": "code",
   "execution_count": 8,
   "metadata": {},
   "outputs": [],
   "source": [
    "session.commit()"
   ]
  },
  {
   "cell_type": "code",
   "execution_count": 405,
   "metadata": {},
   "outputs": [],
   "source": [
    "session.close()"
   ]
  },
  {
   "cell_type": "markdown",
   "metadata": {},
   "source": [
    "# Various tests "
   ]
  },
  {
   "cell_type": "code",
   "execution_count": 381,
   "metadata": {},
   "outputs": [],
   "source": [
    "try:\n",
    "    num_rows_deleted3 = session.query(app.Show).delete()\n",
    "    num_rows_deleted1 = session.query(app.Artist).delete()\n",
    "    \n",
    "    num_rows_deleted2 = session.query(app.Venue).delete()\n",
    "    session.commit()\n",
    "except:\n",
    "    session.rollback()"
   ]
  },
  {
   "cell_type": "code",
   "execution_count": 3,
   "metadata": {},
   "outputs": [],
   "source": []
  },
  {
   "cell_type": "code",
   "execution_count": 4,
   "metadata": {},
   "outputs": [
    {
     "data": {
      "text/plain": [
       "['Artist', 'Show', 'Venue']"
      ]
     },
     "execution_count": 4,
     "metadata": {},
     "output_type": "execute_result"
    }
   ],
   "source": []
  },
  {
   "cell_type": "code",
   "execution_count": 8,
   "metadata": {},
   "outputs": [
    {
     "data": {
      "text/plain": [
       "{'seeking_talent': False,\n",
       " 'facebook_link': 'https://www.facebook.com/ParkSquareLiveMusicAndCoffee',\n",
       " 'phone': '415-000-1234',\n",
       " 'address': '34 Whiskey Moore Ave',\n",
       " 'city': 'San Francisco',\n",
       " 'name': 'Park Square Live Music & Coffee',\n",
       " 'website': 'https://www.parksquarelivemusicandcoffee.com',\n",
       " 'image_link': 'https://images.unsplash.com/photo-1485686531765-ba63b07845a7?ixlib=rb-1.2.1&ixid=eyJhcHBfaWQiOjEyMDd9&auto=format&fit=crop&w=747&q=80',\n",
       " 'state': 'CA',\n",
       " 'genres': 'Rock n Roll,Jazz,Classical,Folk',\n",
       " 'id': 3}"
      ]
     },
     "execution_count": 8,
     "metadata": {},
     "output_type": "execute_result"
    }
   ],
   "source": [
    "myvenue=session.query(app.Venue).get(3)\n",
    "app.clean_sql_to_dict(myvenue.__dict__)"
   ]
  },
  {
   "cell_type": "code",
   "execution_count": 180,
   "metadata": {},
   "outputs": [],
   "source": [
    "def clean_sql_to_dict(myInput):\n",
    "    \"\"\"\n",
    "    removes all keys that have values that are not either sqlAlchemy objects or \n",
    "    other undesirables\n",
    "    \"\"\"\n",
    "    output={}\n",
    "    for k,v in myInput.items():\n",
    "            \n",
    "        if k=='_sa_instance_state' or k=='shows':\n",
    "            pass\n",
    "        elif type(v)==type(list()):\n",
    "            print(k)\n",
    "            output[k]=[clean_sql_to_dict(item) for item in v]\n",
    "                \n",
    "        elif type(v)==type(dict()):\n",
    "            output[k]=clean_sql_to_dict(v,output)\n",
    "        else:\n",
    "            output[k]=v\n",
    "            \n",
    "    return output\n",
    "\n",
    "\n",
    "#myvenue=session.query(app.Venue).get(3)\n",
    "allParents=session.query(app.Venue).all()\n",
    "\n",
    "\n",
    "def get_child_data(allParents):\n",
    "    \"\"\"\n",
    "    tranforms a SqlAlchemy object into a dictionary\n",
    "    \n",
    "    INPUTS:\n",
    "    allParents=list of SqlAlchemy object from a given Query\n",
    "    OUPUTS:\n",
    "    output: list of dictionaries with parent data and child data\n",
    "    \"\"\"\n",
    "    outputData=[]\n",
    "    for parent in allParents:\n",
    "        parent.shows #get the shows of the parent\n",
    "        \n",
    "        parentDict=parent.__dict__ \n",
    "        #additional data for segmenting shows children\n",
    "        parentDict['past_shows']=[]\n",
    "        parentDict['upcoming_shows']=[]\n",
    "        \n",
    "        \n",
    "        dictShows=[show.__dict__ for show in parent.shows]\n",
    "\n",
    "        for show in dictShows:\n",
    "            if show['start_time']<datetime.now():\n",
    "                parentDict['past_shows'].append(show)\n",
    "\n",
    "            else:\n",
    "                parentDict['upcoming_shows'].append(show)\n",
    "\n",
    "        parentDict['past_shows_count']=len(parentDict['past_shows']) \n",
    "        parentDict['upcoming_shows_count']=len(parentDict['upcoming_shows'])\n",
    "\n",
    "        output={}\n",
    "        cleanParentDict=clean_sql_to_dict(parentDict) #remove unwanted fields\n",
    "        outputData.append(cleanParentDict)\n",
    "    return outputData\n",
    "                                               \n",
    "def select_fields(listDataObj,keys):\n",
    "    listDataObjFiltered=[]\n",
    "    \n",
    "    for dataObj  in listDataObj:\n",
    "        dataObj=dataObj.__dict__\n",
    "        listDataObjFiltered.append({key:dataObj[key] for key in keys})\n",
    "    return listDataObjFiltered\n",
    "\n",
    "                                              "
   ]
  },
  {
   "cell_type": "code",
   "execution_count": 202,
   "metadata": {},
   "outputs": [
    {
     "name": "stdout",
     "output_type": "stream",
     "text": [
      "past_shows\n",
      "upcoming_shows\n",
      "past_shows\n",
      "upcoming_shows\n",
      "past_shows\n",
      "upcoming_shows\n",
      "past_shows\n",
      "upcoming_shows\n"
     ]
    },
    {
     "data": {
      "text/plain": [
       "[{'image_link': 'https://images.unsplash.com/photo-1543900694-133f37abaaa5?ixlib=rb-1.2.1&ixid=eyJhcHBfaWQiOjEyMDd9&auto=format&fit=crop&w=400&q=60',\n",
       "  'address': '1015 Folsom Street',\n",
       "  'city': 'San Francisco',\n",
       "  'name': 'The Musical Hop',\n",
       "  'seeking_talent': True,\n",
       "  'facebook_link': 'https://www.facebook.com/TheMusicalHop',\n",
       "  'phone': '123-123-1234',\n",
       "  'state': 'CA',\n",
       "  'genres': 'Jazz,Reggae,Swing,Classical,Folk',\n",
       "  'id': 1,\n",
       "  'website': 'https://www.themusicalhop.com',\n",
       "  'past_shows': [{'artist_id': 4,\n",
       "    'id': 1,\n",
       "    'venue_id': 1,\n",
       "    'start_time': datetime.datetime(2019, 5, 21, 21, 30)}],\n",
       "  'upcoming_shows': [],\n",
       "  'past_shows_count': 1,\n",
       "  'upcoming_shows_count': 0},\n",
       " {'image_link': 'https://images.unsplash.com/photo-1485686531765-ba63b07845a7?ixlib=rb-1.2.1&ixid=eyJhcHBfaWQiOjEyMDd9&auto=format&fit=crop&w=747&q=80',\n",
       "  'address': '34 Whiskey Moore Ave',\n",
       "  'city': 'San Francisco',\n",
       "  'name': 'Park Square Live Music & Coffee',\n",
       "  'seeking_talent': False,\n",
       "  'facebook_link': 'https://www.facebook.com/ParkSquareLiveMusicAndCoffee',\n",
       "  'phone': '415-000-1234',\n",
       "  'state': 'CA',\n",
       "  'genres': 'Rock n Roll,Jazz,Classical,Folk',\n",
       "  'id': 3,\n",
       "  'website': 'https://www.parksquarelivemusicandcoffee.com',\n",
       "  'past_shows': [{'artist_id': 5,\n",
       "    'id': 2,\n",
       "    'venue_id': 3,\n",
       "    'start_time': datetime.datetime(2019, 6, 15, 23, 0)}],\n",
       "  'upcoming_shows': [{'artist_id': 6,\n",
       "    'id': 3,\n",
       "    'venue_id': 3,\n",
       "    'start_time': datetime.datetime(2035, 4, 1, 20, 0)},\n",
       "   {'artist_id': 6,\n",
       "    'id': 4,\n",
       "    'venue_id': 3,\n",
       "    'start_time': datetime.datetime(2035, 4, 8, 20, 0)},\n",
       "   {'artist_id': 6,\n",
       "    'id': 5,\n",
       "    'venue_id': 3,\n",
       "    'start_time': datetime.datetime(2035, 4, 15, 20, 0)}],\n",
       "  'past_shows_count': 1,\n",
       "  'upcoming_shows_count': 3}]"
      ]
     },
     "execution_count": 202,
     "metadata": {},
     "output_type": "execute_result"
    }
   ],
   "source": [
    "search_term='music'\n",
    "    #search_term = request.form.get('search_term', None)\n",
    "artists = app.Venue.query.filter(\n",
    "    app.Venue.name.ilike(\"%{}%\".format(search_term))).all()\n",
    "\n",
    "tests=get_child_data(artists)\n",
    "tests2=[clean_sql_to_dict(test) for test in tests]\n",
    "count_artists = len(artists)\n",
    "\n",
    "response = {\n",
    "        \"count\": len(artists),\n",
    "        \"data\": [{'id':test2['id'],'name':test2['name'],'num_upcoming_shows':test2['upcoming_shows_count'] } for test2 in tests2]\n",
    "    }\n",
    "   #return render_template('pages/search_artists.html', results=response, search_term=request.form.get('search_term', ''))\n",
    "#output={}\n",
    "#a=clean_sql_to_dict(artists[0].__dict__,output={})\n",
    "tests2"
   ]
  },
  {
   "cell_type": "code",
   "execution_count": 201,
   "metadata": {},
   "outputs": [
    {
     "name": "stdout",
     "output_type": "stream",
     "text": [
      "past_shows\n",
      "upcoming_shows\n",
      "past_shows\n",
      "upcoming_shows\n"
     ]
    },
    {
     "data": {
      "text/plain": [
       "['Jazz', 'Reggae', 'Swing', 'Classical', 'Folk']"
      ]
     },
     "execution_count": 201,
     "metadata": {},
     "output_type": "execute_result"
    }
   ],
   "source": [
    "venue=app.Venue.query.get(1)\n",
    "venueChild=get_child_data([venue])\n",
    "data=clean_sql_to_dict(venueChild[0]) \n",
    "\n",
    "for show in vdata['past_shows']:\n",
    "    showQuery=app.Artist.query.get(show['artist_id'])\n",
    "    show['artist_name']=showQuery.name\n",
    "    show['artist_image_link']=showQuery.image_link\n",
    "data['past_shows'][0]['start_time'].strftime(\"%m/%d/%Y, %H:%M:%S\")  \n",
    "data['genres'].split(',')"
   ]
  },
  {
   "cell_type": "code",
   "execution_count": 211,
   "metadata": {},
   "outputs": [
    {
     "name": "stdout",
     "output_type": "stream",
     "text": [
      "past_shows\n",
      "upcoming_shows\n",
      "past_shows\n",
      "upcoming_shows\n",
      "past_shows\n",
      "upcoming_shows\n",
      "past_shows\n",
      "upcoming_shows\n",
      "past_shows\n",
      "upcoming_shows\n",
      "past_shows\n",
      "upcoming_shows\n"
     ]
    },
    {
     "data": {
      "text/plain": [
       "{'image_link': 'https://images.unsplash.com/photo-1543900694-133f37abaaa5?ixlib=rb-1.2.1&ixid=eyJhcHBfaWQiOjEyMDd9&auto=format&fit=crop&w=400&q=60',\n",
       " 'address': '1015 Folsom Street',\n",
       " 'city': 'San Francisco',\n",
       " 'name': 'The Musical Hop',\n",
       " 'seeking_talent': True,\n",
       " 'facebook_link': 'https://www.facebook.com/TheMusicalHop',\n",
       " 'phone': '123-123-1234',\n",
       " 'state': 'CA',\n",
       " 'genres': 'Jazz,Reggae,Swing,Classical,Folk',\n",
       " 'id': 1,\n",
       " 'website': 'https://www.themusicalhop.com',\n",
       " 'past_shows': [{'artist_id': 4,\n",
       "   'id': 1,\n",
       "   'venue_id': 1,\n",
       "   'start_time': datetime.datetime(2019, 5, 21, 21, 30)}],\n",
       " 'upcoming_shows': [],\n",
       " 'past_shows_count': 1,\n",
       " 'upcoming_shows_count': 0}"
      ]
     },
     "execution_count": 211,
     "metadata": {},
     "output_type": "execute_result"
    }
   ],
   "source": [
    "venues=app.Venue.query.all()\n",
    "venuesDictList=get_child_data(venues)\n",
    "venuesDictListCleaned=[clean_sql_to_dict(venueDictList) for venueDictList in venuesDictList ]\n",
    "venuesDictListCleaned[0]\n",
    "\n"
   ]
  },
  {
   "cell_type": "code",
   "execution_count": 149,
   "metadata": {},
   "outputs": [
    {
     "name": "stdout",
     "output_type": "stream",
     "text": [
      "past_shows\n",
      "upcoming_shows\n"
     ]
    },
    {
     "data": {
      "text/plain": [
       "[{'seeking_description': 'Looking for shows to perform at in the San Francisco Bay Area!',\n",
       "  'image_link': 'https://images.unsplash.com/photo-1549213783-8284d0336c4f?ixlib=rb-1.2.1&ixid=eyJhcHBfaWQiOjEyMDd9&auto=format&fit=crop&w=300&q=80',\n",
       "  'phone': '326-123-5000',\n",
       "  'state': 'CA',\n",
       "  'name': 'Guns N Petals',\n",
       "  'seeking_venue': True,\n",
       "  'facebook_link': 'https://www.facebook.com/GunsNPetals',\n",
       "  'genres': 'Rock n Roll',\n",
       "  'city': 'San Francisco',\n",
       "  'id': 4,\n",
       "  'past_shows': [{'artist_id': 4,\n",
       "    'id': 1,\n",
       "    'venue_id': 1,\n",
       "    'start_time': datetime.datetime(2019, 5, 21, 21, 30)}],\n",
       "  'upcoming_shows': [],\n",
       "  'past_shows_count': 1,\n",
       "  'upcoming_shows_count': 0}]"
      ]
     },
     "execution_count": 149,
     "metadata": {},
     "output_type": "execute_result"
    }
   ],
   "source": [
    "keys=['name','upcoming_shows']\n",
    "\n",
    "\n",
    "def select_fields(listDataObj,keys):\n",
    "    listDataObjFiltered=[]\n",
    "    \n",
    "    for dataObj  in listDataObj:\n",
    "        dataObj=dataObj.__dict__\n",
    "        listDataObjFiltered.append({key:dataObj[key] for key in keys})\n",
    "    return listDataObjFiltered\n",
    "\n",
    "#select_fields(artists,keys)\n",
    "get_child_data(artists)"
   ]
  },
  {
   "cell_type": "code",
   "execution_count": 30,
   "metadata": {},
   "outputs": [
    {
     "data": {
      "text/plain": [
       "DateTime(timezone=datetime.datetime(2018, 3, 12, 10, 12, 45))"
      ]
     },
     "execution_count": 30,
     "metadata": {},
     "output_type": "execute_result"
    }
   ],
   "source": [
    "strTime=shows[1]['start_time']\n",
    "tme1=\"2018-03-12T10:12:45Z\"\n",
    "app.db.DateTime(datetime.strptime(tme1,\"%Y-%m-%dT%H:%M:%SZ\"))"
   ]
  },
  {
   "cell_type": "code",
   "execution_count": 231,
   "metadata": {},
   "outputs": [
    {
     "name": "stdout",
     "output_type": "stream",
     "text": [
      "yes\n"
     ]
    }
   ],
   "source": [
    "\n",
    "try:\n",
    "    new_artist = app.Artist(\n",
    "    name='bob')\n",
    "            #genres=','.join(artist_form.genres.data),\n",
    "            #city=artist_form.city.data,\n",
    "            #state=artist_form.state.data,\n",
    "            #phone=artist_form.phone.data,\n",
    "            #facebook_link=artist_form.facebook_link.data)\n",
    "\n",
    "\n",
    "    #new_artist.add()\n",
    "\n",
    "        # on successful db insert, flash success\n",
    "    #flash('Artist ' + artist_form.name.data + ' was successfully listed!')\n",
    "    print('yes')\n",
    "except Exception as ex:\n",
    "    print('fucjk')"
   ]
  },
  {
   "cell_type": "code",
   "execution_count": null,
   "metadata": {},
   "outputs": [],
   "source": [
    "session.close)"
   ]
  }
 ],
 "metadata": {
  "kernelspec": {
   "display_name": "Python 3",
   "language": "python",
   "name": "python3"
  },
  "language_info": {
   "codemirror_mode": {
    "name": "ipython",
    "version": 3
   },
   "file_extension": ".py",
   "mimetype": "text/x-python",
   "name": "python",
   "nbconvert_exporter": "python",
   "pygments_lexer": "ipython3",
   "version": "3.7.3"
  }
 },
 "nbformat": 4,
 "nbformat_minor": 2
}
